{
 "cells": [
  {
   "cell_type": "code",
   "execution_count": 1,
   "metadata": {},
   "outputs": [],
   "source": [
    "import os\n",
    "import pandas as pd\n",
    "import matplotlib.pyplot as plt\n",
    "import numpy as np\n",
    "import seaborn as sns\n",
    "from collections import Counter"
   ]
  },
  {
   "cell_type": "code",
   "execution_count": 2,
   "metadata": {},
   "outputs": [],
   "source": [
    "df_jobs = pd.read_csv('data/data_jobs_2023.6.26 - 22-38.csv', sep=';')"
   ]
  },
  {
   "cell_type": "code",
   "execution_count": 34,
   "metadata": {},
   "outputs": [
    {
     "name": "stdout",
     "output_type": "stream",
     "text": [
      "428    https://www.linkedin.com/jobs/view/3631851702/...\n",
      "Name: link_linkedin, dtype: object\n"
     ]
    }
   ],
   "source": [
    "print(df_jobs[df_jobs['location'].str.contains('Indaiatuba')]['link_linkedin'])"
   ]
  },
  {
   "cell_type": "code",
   "execution_count": 48,
   "metadata": {},
   "outputs": [],
   "source": [
    "df_jobs = df_jobs.drop_duplicates(['description'])"
   ]
  },
  {
   "cell_type": "code",
   "execution_count": 69,
   "metadata": {},
   "outputs": [
    {
     "data": {
      "text/plain": [
       "223                                                                                                                                                      https://www.empregare.com/pt-br/vaga-analista-de-dados_50612?source=linkedin\n",
       "233                                                                                                                                                        https://iventistecnologia.compleo.com.br/Visualizar/155238?source=LinkedIn\n",
       "235                                                                                                                                                                    https://careers.shopee.sg/job-detail/J00240983/1?channel=10001\n",
       "245                                                                                                                           https://metodo.gupy.io/job/eyJqb2JJZCI6NDgwNjU5Miwic291cmNlIjoibGlua2VkaW4ifQ==?jobBoardSource=linkedin\n",
       "246                                                                                                                                                              https://cbadesign.abler.com.br/vagas/analista-de-dados-junior-370570\n",
       "257    https://people.talentbrand.com.br/jobs/hype-empreendimentos-analista-de-dados-em-suprimentos-4125?utm_campaign=Analista+de+Dados+em+Suprimentos&utm_medium=XML&utm_source=LinkedIn+Listing&utm_term=Engenharia+%7C+Suprimentos\n",
       "262                                                 https://www.linkedin.com/jobs/view/3638854679/?alternateChannel=search&refId=329wuIUeFuXgkCsFJxoATg%3D%3D&trackingId=d3B0A5yODxo5LIijLw6ehQ%3D%3D&trk=d_flagship3_search_srp_jobs\n",
       "264                                                                                                                                                                     https://careers.mantu.com/brands/amaris-consulting/jobs/28030\n",
       "268                    https://laboratoriomundoanimal.solides.jobs/vacancies/240306?__hstc=127459538.b804c506c671409ba181c34bb7fa3e4b.1676286751555.1686934837952.1687199005259.62&__hssc=127459538.3.1687199005259&__hsfp=3808960734\n",
       "271                                                 https://www.linkedin.com/jobs/view/3640055995/?alternateChannel=search&refId=329wuIUeFuXgkCsFJxoATg%3D%3D&trackingId=OZuk8woeFpzxGxqn7gAGKw%3D%3D&trk=d_flagship3_search_srp_jobs\n",
       "273                                                                                                                                                                                 https://www.catho.com.br/vagas/linkedin/23064285/\n",
       "274                                                 https://www.linkedin.com/jobs/view/3644259282/?alternateChannel=search&refId=329wuIUeFuXgkCsFJxoATg%3D%3D&trackingId=HcB8PX5rjrDQjKh2BH7bRw%3D%3D&trk=d_flagship3_search_srp_jobs\n",
       "275                                                 https://www.linkedin.com/jobs/view/3644677846/?alternateChannel=search&refId=329wuIUeFuXgkCsFJxoATg%3D%3D&trackingId=fbyD6y2vO8No1jckFrcvVw%3D%3D&trk=d_flagship3_search_srp_jobs\n",
       "276                                                                                                                                                                                        https://mutantbrvagas.gupy.io/jobs/5080204\n",
       "277                                                                                                                                                                                https://boards.greenhouse.io/xpinc/jobs/5927851002\n",
       "278                                                                                                                                                                   https://jobs.lever.co/neon/bb40c8e2-ec68-41c5-a4c8-37b0a648f333\n",
       "279                                                                                                                         https://jobs.recrutei.com.br/accountfy/vacancy/40223-analista-de-dados-pleno?utm_source=linkedin-jobboard\n",
       "280                                                                                                         https://radixeng.gupy.io/job/eyJzb3VyY2UiOiJndXB5X3B1YmxpY19wYWdlIiwiam9iSWQiOjQ5MTk5ODh9?jobBoardSource=gupy_public_page\n",
       "281                                                 https://www.linkedin.com/jobs/view/3627157165/?alternateChannel=search&refId=329wuIUeFuXgkCsFJxoATg%3D%3D&trackingId=8j0BWuJrfCOE0XGt0nqZzA%3D%3D&trk=d_flagship3_search_srp_jobs\n",
       "282                                                                                                                                 https://jobs.jobvite.com/careers/leantechio/job/oTJtnfwc/apply?__jvst=Job%20Board&__jvsd=linkedIn\n",
       "Name: link_application, dtype: object"
      ]
     },
     "execution_count": 69,
     "metadata": {},
     "output_type": "execute_result"
    }
   ],
   "source": [
    "pd.options.display.max_colwidth = 300\n",
    "mask_not_presencial = df_jobs['type_workplace'] != 'Presencial'\n",
    "mask_not_hibrido = df_jobs['type_workplace'] != 'Híbrido'\n",
    "df_jobs[mask_not_hibrido & mask_not_presencial]['link_application'][40:60]"
   ]
  },
  {
   "cell_type": "code",
   "execution_count": 51,
   "metadata": {},
   "outputs": [],
   "source": [
    "from selenium import webdriver"
   ]
  },
  {
   "cell_type": "code",
   "execution_count": 53,
   "metadata": {},
   "outputs": [],
   "source": [
    "def initialize_driver():\n",
    "        \"\"\"This method initializes the driver object.\n",
    "        \n",
    "        Returns\n",
    "        -------\n",
    "        Webdriver\n",
    "            Object that allows using the Chrome browser.\n",
    "        \"\"\"\n",
    "\n",
    "        # Options is used for saving the User Data, so it is not necessary to log in Linkedin every time\n",
    "        options = webdriver.ChromeOptions()\n",
    "        options.add_argument(r\"--user-data-dir=C:\\Users\\alexa\\AppData\\Local\\Google\\Chrome\\User Data\\\\\")\n",
    "        driver = webdriver.Chrome(executable_path='./resources/chromedriver.exe', options=options)\n",
    "        return driver"
   ]
  },
  {
   "cell_type": "code",
   "execution_count": 63,
   "metadata": {},
   "outputs": [
    {
     "data": {
      "text/plain": [
       "'https://www.linkedin.com/jobs/view/3645134500/?alternateChannel=search&refId=fO5gvGS0Cl%2FPkLKeJRZGmw%3D%3D&trackingId=bgjS8M3tllTmypkvXOhrtA%3D%3D&trk=d_flagship3_search_srp_jobs'"
      ]
     },
     "execution_count": 63,
     "metadata": {},
     "output_type": "execute_result"
    }
   ],
   "source": [
    "df_jobs[mask_not_hibrido & mask_not_presencial]['link_application'].iloc[0]"
   ]
  },
  {
   "cell_type": "code",
   "execution_count": 66,
   "metadata": {},
   "outputs": [
    {
     "name": "stderr",
     "output_type": "stream",
     "text": [
      "C:\\Users\\alexa\\AppData\\Local\\Temp\\ipykernel_19584\\3436768230.py:13: DeprecationWarning: executable_path has been deprecated, please pass in a Service object\n",
      "  driver = webdriver.Chrome(executable_path='./resources/chromedriver.exe', options=options)\n"
     ]
    },
    {
     "ename": "WebDriverException",
     "evalue": "Message: unknown error: Chrome failed to start: exited normally.\n  (unknown error: DevToolsActivePort file doesn't exist)\n  (The process started from chrome location C:\\Program Files\\Google\\Chrome\\Application\\chrome.exe is no longer running, so ChromeDriver is assuming that Chrome has crashed.)\nStacktrace:\nBacktrace:\n\tGetHandleVerifier [0x01218893+48451]\n\t(No symbol) [0x011AB8A1]\n\t(No symbol) [0x010B5058]\n\t(No symbol) [0x010D3211]\n\t(No symbol) [0x010D0019]\n\t(No symbol) [0x01100798]\n\t(No symbol) [0x0110047C]\n\t(No symbol) [0x010FA0B6]\n\t(No symbol) [0x010D7E08]\n\t(No symbol) [0x010D8F2D]\n\tGetHandleVerifier [0x01478E3A+2540266]\n\tGetHandleVerifier [0x014B8959+2801161]\n\tGetHandleVerifier [0x014B295C+2776588]\n\tGetHandleVerifier [0x012A2280+612144]\n\t(No symbol) [0x011B4F6C]\n\t(No symbol) [0x011B11D8]\n\t(No symbol) [0x011B12BB]\n\t(No symbol) [0x011A4857]\n\tBaseThreadInitThunk [0x75C37D59+25]\n\tRtlInitializeExceptionChain [0x772DB74B+107]\n\tRtlClearBits [0x772DB6CF+191]\n",
     "output_type": "error",
     "traceback": [
      "\u001b[1;31m---------------------------------------------------------------------------\u001b[0m",
      "\u001b[1;31mWebDriverException\u001b[0m                        Traceback (most recent call last)",
      "Cell \u001b[1;32mIn[66], line 1\u001b[0m\n\u001b[1;32m----> 1\u001b[0m driver \u001b[39m=\u001b[39m initialize_driver()\n\u001b[0;32m      2\u001b[0m driver\u001b[39m.\u001b[39mget(df_jobs[mask_not_hibrido \u001b[39m&\u001b[39m mask_not_presencial][\u001b[39m'\u001b[39m\u001b[39mlink_application\u001b[39m\u001b[39m'\u001b[39m]\u001b[39m.\u001b[39miloc[\u001b[39m1\u001b[39m])\n",
      "Cell \u001b[1;32mIn[53], line 13\u001b[0m, in \u001b[0;36minitialize_driver\u001b[1;34m()\u001b[0m\n\u001b[0;32m     11\u001b[0m options \u001b[39m=\u001b[39m webdriver\u001b[39m.\u001b[39mChromeOptions()\n\u001b[0;32m     12\u001b[0m options\u001b[39m.\u001b[39madd_argument(\u001b[39mr\u001b[39m\u001b[39m\"\u001b[39m\u001b[39m--user-data-dir=C:\u001b[39m\u001b[39m\\\u001b[39m\u001b[39mUsers\u001b[39m\u001b[39m\\\u001b[39m\u001b[39malexa\u001b[39m\u001b[39m\\\u001b[39m\u001b[39mAppData\u001b[39m\u001b[39m\\\u001b[39m\u001b[39mLocal\u001b[39m\u001b[39m\\\u001b[39m\u001b[39mGoogle\u001b[39m\u001b[39m\\\u001b[39m\u001b[39mChrome\u001b[39m\u001b[39m\\\u001b[39m\u001b[39mUser Data\u001b[39m\u001b[39m\\\\\u001b[39;00m\u001b[39m\"\u001b[39m)\n\u001b[1;32m---> 13\u001b[0m driver \u001b[39m=\u001b[39m webdriver\u001b[39m.\u001b[39;49mChrome(executable_path\u001b[39m=\u001b[39;49m\u001b[39m'\u001b[39;49m\u001b[39m./resources/chromedriver.exe\u001b[39;49m\u001b[39m'\u001b[39;49m, options\u001b[39m=\u001b[39;49moptions)\n\u001b[0;32m     14\u001b[0m \u001b[39mreturn\u001b[39;00m driver\n",
      "File \u001b[1;32mc:\\Users\\alexa\\AppData\\Local\\Programs\\Python\\Python311\\Lib\\site-packages\\selenium\\webdriver\\chrome\\webdriver.py:70\u001b[0m, in \u001b[0;36mWebDriver.__init__\u001b[1;34m(self, executable_path, port, options, service_args, desired_capabilities, service_log_path, chrome_options, service, keep_alive)\u001b[0m\n\u001b[0;32m     67\u001b[0m \u001b[39mif\u001b[39;00m \u001b[39mnot\u001b[39;00m service:\n\u001b[0;32m     68\u001b[0m     service \u001b[39m=\u001b[39m Service(executable_path, port, service_args, service_log_path)\n\u001b[1;32m---> 70\u001b[0m \u001b[39msuper\u001b[39;49m(WebDriver, \u001b[39mself\u001b[39;49m)\u001b[39m.\u001b[39;49m\u001b[39m__init__\u001b[39;49m(DesiredCapabilities\u001b[39m.\u001b[39;49mCHROME[\u001b[39m'\u001b[39;49m\u001b[39mbrowserName\u001b[39;49m\u001b[39m'\u001b[39;49m], \u001b[39m\"\u001b[39;49m\u001b[39mgoog\u001b[39;49m\u001b[39m\"\u001b[39;49m,\n\u001b[0;32m     71\u001b[0m                                 port, options,\n\u001b[0;32m     72\u001b[0m                                 service_args, desired_capabilities,\n\u001b[0;32m     73\u001b[0m                                 service_log_path, service, keep_alive)\n",
      "File \u001b[1;32mc:\\Users\\alexa\\AppData\\Local\\Programs\\Python\\Python311\\Lib\\site-packages\\selenium\\webdriver\\chromium\\webdriver.py:92\u001b[0m, in \u001b[0;36mChromiumDriver.__init__\u001b[1;34m(self, browser_name, vendor_prefix, port, options, service_args, desired_capabilities, service_log_path, service, keep_alive)\u001b[0m\n\u001b[0;32m     89\u001b[0m \u001b[39mself\u001b[39m\u001b[39m.\u001b[39mservice\u001b[39m.\u001b[39mstart()\n\u001b[0;32m     91\u001b[0m \u001b[39mtry\u001b[39;00m:\n\u001b[1;32m---> 92\u001b[0m     RemoteWebDriver\u001b[39m.\u001b[39;49m\u001b[39m__init__\u001b[39;49m(\n\u001b[0;32m     93\u001b[0m         \u001b[39mself\u001b[39;49m,\n\u001b[0;32m     94\u001b[0m         command_executor\u001b[39m=\u001b[39;49mChromiumRemoteConnection(\n\u001b[0;32m     95\u001b[0m             remote_server_addr\u001b[39m=\u001b[39;49m\u001b[39mself\u001b[39;49m\u001b[39m.\u001b[39;49mservice\u001b[39m.\u001b[39;49mservice_url,\n\u001b[0;32m     96\u001b[0m             browser_name\u001b[39m=\u001b[39;49mbrowser_name, vendor_prefix\u001b[39m=\u001b[39;49mvendor_prefix,\n\u001b[0;32m     97\u001b[0m             keep_alive\u001b[39m=\u001b[39;49mkeep_alive, ignore_proxy\u001b[39m=\u001b[39;49m_ignore_proxy),\n\u001b[0;32m     98\u001b[0m         options\u001b[39m=\u001b[39;49moptions)\n\u001b[0;32m     99\u001b[0m \u001b[39mexcept\u001b[39;00m \u001b[39mException\u001b[39;00m:\n\u001b[0;32m    100\u001b[0m     \u001b[39mself\u001b[39m\u001b[39m.\u001b[39mquit()\n",
      "File \u001b[1;32mc:\\Users\\alexa\\AppData\\Local\\Programs\\Python\\Python311\\Lib\\site-packages\\selenium\\webdriver\\remote\\webdriver.py:275\u001b[0m, in \u001b[0;36mWebDriver.__init__\u001b[1;34m(self, command_executor, desired_capabilities, browser_profile, proxy, keep_alive, file_detector, options)\u001b[0m\n\u001b[0;32m    273\u001b[0m \u001b[39mself\u001b[39m\u001b[39m.\u001b[39m_authenticator_id \u001b[39m=\u001b[39m \u001b[39mNone\u001b[39;00m\n\u001b[0;32m    274\u001b[0m \u001b[39mself\u001b[39m\u001b[39m.\u001b[39mstart_client()\n\u001b[1;32m--> 275\u001b[0m \u001b[39mself\u001b[39;49m\u001b[39m.\u001b[39;49mstart_session(capabilities, browser_profile)\n",
      "File \u001b[1;32mc:\\Users\\alexa\\AppData\\Local\\Programs\\Python\\Python311\\Lib\\site-packages\\selenium\\webdriver\\remote\\webdriver.py:365\u001b[0m, in \u001b[0;36mWebDriver.start_session\u001b[1;34m(self, capabilities, browser_profile)\u001b[0m\n\u001b[0;32m    363\u001b[0m w3c_caps \u001b[39m=\u001b[39m _make_w3c_caps(capabilities)\n\u001b[0;32m    364\u001b[0m parameters \u001b[39m=\u001b[39m {\u001b[39m\"\u001b[39m\u001b[39mcapabilities\u001b[39m\u001b[39m\"\u001b[39m: w3c_caps}\n\u001b[1;32m--> 365\u001b[0m response \u001b[39m=\u001b[39m \u001b[39mself\u001b[39;49m\u001b[39m.\u001b[39;49mexecute(Command\u001b[39m.\u001b[39;49mNEW_SESSION, parameters)\n\u001b[0;32m    366\u001b[0m \u001b[39mif\u001b[39;00m \u001b[39m'\u001b[39m\u001b[39msessionId\u001b[39m\u001b[39m'\u001b[39m \u001b[39mnot\u001b[39;00m \u001b[39min\u001b[39;00m response:\n\u001b[0;32m    367\u001b[0m     response \u001b[39m=\u001b[39m response[\u001b[39m'\u001b[39m\u001b[39mvalue\u001b[39m\u001b[39m'\u001b[39m]\n",
      "File \u001b[1;32mc:\\Users\\alexa\\AppData\\Local\\Programs\\Python\\Python311\\Lib\\site-packages\\selenium\\webdriver\\remote\\webdriver.py:430\u001b[0m, in \u001b[0;36mWebDriver.execute\u001b[1;34m(self, driver_command, params)\u001b[0m\n\u001b[0;32m    428\u001b[0m response \u001b[39m=\u001b[39m \u001b[39mself\u001b[39m\u001b[39m.\u001b[39mcommand_executor\u001b[39m.\u001b[39mexecute(driver_command, params)\n\u001b[0;32m    429\u001b[0m \u001b[39mif\u001b[39;00m response:\n\u001b[1;32m--> 430\u001b[0m     \u001b[39mself\u001b[39;49m\u001b[39m.\u001b[39;49merror_handler\u001b[39m.\u001b[39;49mcheck_response(response)\n\u001b[0;32m    431\u001b[0m     response[\u001b[39m'\u001b[39m\u001b[39mvalue\u001b[39m\u001b[39m'\u001b[39m] \u001b[39m=\u001b[39m \u001b[39mself\u001b[39m\u001b[39m.\u001b[39m_unwrap_value(\n\u001b[0;32m    432\u001b[0m         response\u001b[39m.\u001b[39mget(\u001b[39m'\u001b[39m\u001b[39mvalue\u001b[39m\u001b[39m'\u001b[39m, \u001b[39mNone\u001b[39;00m))\n\u001b[0;32m    433\u001b[0m     \u001b[39mreturn\u001b[39;00m response\n",
      "File \u001b[1;32mc:\\Users\\alexa\\AppData\\Local\\Programs\\Python\\Python311\\Lib\\site-packages\\selenium\\webdriver\\remote\\errorhandler.py:247\u001b[0m, in \u001b[0;36mErrorHandler.check_response\u001b[1;34m(self, response)\u001b[0m\n\u001b[0;32m    245\u001b[0m         alert_text \u001b[39m=\u001b[39m value[\u001b[39m'\u001b[39m\u001b[39malert\u001b[39m\u001b[39m'\u001b[39m]\u001b[39m.\u001b[39mget(\u001b[39m'\u001b[39m\u001b[39mtext\u001b[39m\u001b[39m'\u001b[39m)\n\u001b[0;32m    246\u001b[0m     \u001b[39mraise\u001b[39;00m exception_class(message, screen, stacktrace, alert_text)  \u001b[39m# type: ignore[call-arg]  # mypy is not smart enough here\u001b[39;00m\n\u001b[1;32m--> 247\u001b[0m \u001b[39mraise\u001b[39;00m exception_class(message, screen, stacktrace)\n",
      "\u001b[1;31mWebDriverException\u001b[0m: Message: unknown error: Chrome failed to start: exited normally.\n  (unknown error: DevToolsActivePort file doesn't exist)\n  (The process started from chrome location C:\\Program Files\\Google\\Chrome\\Application\\chrome.exe is no longer running, so ChromeDriver is assuming that Chrome has crashed.)\nStacktrace:\nBacktrace:\n\tGetHandleVerifier [0x01218893+48451]\n\t(No symbol) [0x011AB8A1]\n\t(No symbol) [0x010B5058]\n\t(No symbol) [0x010D3211]\n\t(No symbol) [0x010D0019]\n\t(No symbol) [0x01100798]\n\t(No symbol) [0x0110047C]\n\t(No symbol) [0x010FA0B6]\n\t(No symbol) [0x010D7E08]\n\t(No symbol) [0x010D8F2D]\n\tGetHandleVerifier [0x01478E3A+2540266]\n\tGetHandleVerifier [0x014B8959+2801161]\n\tGetHandleVerifier [0x014B295C+2776588]\n\tGetHandleVerifier [0x012A2280+612144]\n\t(No symbol) [0x011B4F6C]\n\t(No symbol) [0x011B11D8]\n\t(No symbol) [0x011B12BB]\n\t(No symbol) [0x011A4857]\n\tBaseThreadInitThunk [0x75C37D59+25]\n\tRtlInitializeExceptionChain [0x772DB74B+107]\n\tRtlClearBits [0x772DB6CF+191]\n"
     ]
    }
   ],
   "source": [
    "driver = initialize_driver()\n",
    "driver.get(df_jobs[mask_not_hibrido & mask_not_presencial]['link_application'].iloc[1])"
   ]
  }
 ],
 "metadata": {
  "kernelspec": {
   "display_name": "Python 3",
   "language": "python",
   "name": "python3"
  },
  "language_info": {
   "codemirror_mode": {
    "name": "ipython",
    "version": 3
   },
   "file_extension": ".py",
   "mimetype": "text/x-python",
   "name": "python",
   "nbconvert_exporter": "python",
   "pygments_lexer": "ipython3",
   "version": "3.11.3"
  },
  "orig_nbformat": 4
 },
 "nbformat": 4,
 "nbformat_minor": 2
}
