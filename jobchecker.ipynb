{
 "cells": [
  {
   "cell_type": "code",
   "execution_count": 1,
   "metadata": {},
   "outputs": [],
   "source": [
    "import os\n",
    "import requests\n",
    "import re\n",
    "import time\n",
    "from bs4 import BeautifulSoup\n",
    "from selenium import webdriver\n",
    "from selenium.webdriver.common.by import By\n",
    "from selenium.webdriver.common.keys import Keys\n",
    "from datetime import datetime, timedelta\n",
    "from dateutil.relativedelta import relativedelta\n",
    "\n",
    "import numpy as np\n",
    "import pandas as pd\n",
    "import seaborn as sns\n",
    "\n",
    "# Test modules\n",
    "from traceback import print_stack\n",
    "from selenium.webdriver.support.ui import WebDriverWait\n",
    "from selenium.webdriver.support import expected_conditions as EC\n",
    "from selenium.common.exceptions import *\n",
    "import sys\n",
    "sys.path.append(r'C:/Users/alexa/Desktop/PythonProjects/Cursos/Ironhack - Data Analytics/projects/final_project')\n",
    "from utilities.custom_logger import CustomLogger\n",
    "import logging"
   ]
  },
  {
   "cell_type": "code",
   "execution_count": 7,
   "metadata": {},
   "outputs": [],
   "source": [
    "class Job():\n",
    "    def __init__(self, position, company, location, posted_date, no_applicants, date_collected, type_workplace, \n",
    "                 required_skills, competitive_advantages, level, worktype, description):\n",
    "        self.position = position\n",
    "        self.company = company\n",
    "        self.location = location\n",
    "        self.posted_date = posted_date\n",
    "        self.no_applicants = no_applicants\n",
    "        self.date_collected = date_collected\n",
    "        self.type_workplace = type_workplace\n",
    "        self.required_skills = required_skills\n",
    "        self.competitive_advantages = competitive_advantages\n",
    "        self.level = level\n",
    "        self.worktype = worktype\n",
    "        self.description = description\n",
    "\n",
    "class Company():\n",
    "    def __init__(self, name, size, sector):\n",
    "        self.name = name\n",
    "        self.size = size\n",
    "        self.sector = sector\n",
    "\n",
    "class SeleniumDriver():\n",
    "    log = CustomLogger(logging.DEBUG)\n",
    "\n",
    "    def __init__(self, driver):\n",
    "        options = webdriver.ChromeOptions()\n",
    "        options.add_argument(r\"--user-data-dir=C:\\Users\\alexa\\AppData\\Local\\Google\\Chrome\\User Data\\\\\")\n",
    "        driver = webdriver.Chrome(executable_path='./resources/chromedriver.exe', options=options)\n",
    "        return driver\n",
    "\n",
    "    def get_by_type(self, locator_type):\n",
    "        locator_type = locator_type.lower()\n",
    "        if locator_type == 'id':\n",
    "            return By.ID\n",
    "        elif locator_type == 'name':\n",
    "            return By.NAME\n",
    "        elif locator_type == 'xpath':\n",
    "            return By.XPATH\n",
    "        elif locator_type == 'css':\n",
    "            return By.CSS_SELECTOR\n",
    "        elif locator_type == 'class':\n",
    "            return By.CLASS_NAME\n",
    "        elif locator_type == 'link':\n",
    "            return By.LINK_TEXT\n",
    "        else:\n",
    "            self.log.info('Locator Type', locator_type, 'not correct/supported')\n",
    "        return False\n",
    "    \n",
    "    def get_element(self, locator, locator_type='class'):\n",
    "        element = None\n",
    "        try:\n",
    "            locator_type = locator_type.lower()\n",
    "            by_type = self.get_by_type(locator_type)\n",
    "            element = self.driver.find_element(by_type, locator)\n",
    "            self.log.info('Element found with locator:', locator, '; and locator type:', locator_type)\n",
    "        except:\n",
    "            self.log.info('Element not found with locator:', locator, '; and locator type:', locator_type)\n",
    "        return element\n",
    "    \n",
    "    def get_elements(self, locator, locator_type='class'):\n",
    "        element = None\n",
    "        try:\n",
    "            locator_type = locator_type.lower()\n",
    "            by_type = self.get_by_type(locator_type)\n",
    "            element = self.driver.find_elements(by_type, locator)\n",
    "            self.log.info('Element found with locator:', locator, '; and locator type:', locator_type)\n",
    "        except:\n",
    "            self.log.info('Element not found with locator:', locator, '; and locator type:', locator_type)\n",
    "        return element\n",
    "    \n",
    "    def element_click(self, locator, locator_type='class'):\n",
    "        try:\n",
    "            element = self.get_element(locator, locator_type)\n",
    "            element.click()\n",
    "            self.log.info('Clicked on element with locator:', locator, '; and locator type:', locator_type)\n",
    "        except:\n",
    "            self.log.info('Could not click on element with locator:', locator, '; and locator type:', locator_type)\n",
    "            print_stack()\n",
    "\n",
    "    def send_keys(self, data, locator, locator_type='class'):\n",
    "        try:\n",
    "            element = self.get_element(locator, locator_type)\n",
    "            element.send_keys(data)\n",
    "            self.log.info('Sent data on element with locator:', locator, '; and locator type:', locator_type)\n",
    "        except:\n",
    "            self.log.info(\"Couldn't Sent data on element with locator:\", locator, '; and locator type:', locator_type)\n",
    "            print_stack()\n",
    "\n",
    "    def is_element_present(self, locator, locator_type='class'):\n",
    "        try:\n",
    "            element = self.get_element(locator, locator_type)\n",
    "            if element is not None:\n",
    "                self.log.info('Element', locator, 'found')\n",
    "                return True\n",
    "            else:\n",
    "                self.log.info('Element', locator, 'not found')\n",
    "                return False\n",
    "        except:\n",
    "            self.log.info('Element', locator, 'not found')\n",
    "            return False\n",
    "        \n",
    "    def wait_for_element(self, locator, locator_type='class', timeout=10, poll_frequency=0.5):\n",
    "        element = None\n",
    "        try:\n",
    "            by_type = self.get_by_type(locator_type)\n",
    "            self.log.info('Waiting for maximum ::', str(timeout), ':: seconds for element to be clickable')\n",
    "            wait = WebDriverWait(self.driver, timeout, poll_frequency=poll_frequency, ignored_exceptions=[\n",
    "                NoSuchElementException, ElementNotVisibleException, ElementNotSelectableException\n",
    "            ])\n",
    "            element = wait.until(EC.element_to_be_clickable((by_type, locator)))\n",
    "            self.log.info('Element', locator, 'appeared on the web page.')\n",
    "        except:\n",
    "            self.log.info('Element not', locator, 'appeared on the web page.')\n",
    "            print_stack()\n",
    "        return element\n",
    "\n",
    "class ChromeBrowser(SeleniumDriver):\n",
    "    def __init__(self, name, size, sector):\n",
    "        super.__init__(name, size, sector)\n",
    "\n",
    "\n",
    "    def get_linkedin(driver, url, page=0):\n",
    "        start = page * 25\n",
    "        driver.get(f'{url}&start={start}')\n",
    "        print(f'{url}+&start={start}')"
   ]
  },
  {
   "cell_type": "code",
   "execution_count": null,
   "metadata": {},
   "outputs": [],
   "source": [
    "driver = SeleniumDriver()"
   ]
  },
  {
   "attachments": {},
   "cell_type": "markdown",
   "metadata": {},
   "source": [
    "# Data Extraction"
   ]
  },
  {
   "attachments": {},
   "cell_type": "markdown",
   "metadata": {},
   "source": [
    "Primeiramente, preciso extrair os dados de meu interesse para constituir um database bacana. Farei isso com um webscraper no Linkedin, de início, embora possa pensar em usar outras plataformas de emprego se necessário."
   ]
  },
  {
   "attachments": {},
   "cell_type": "markdown",
   "metadata": {},
   "source": [
    "Entendendo o link:\n",
    "    https://www.linkedin.com/jobs/search/?currentJobId=3571662289&keywords=analista%20de%20dados&refresh=true\n",
    "    \n",
    "Parâmetros GET:\n",
    "- currentJobId\n",
    "- keywords: o que está sendo pesquisado\n",
    "- refresh"
   ]
  },
  {
   "attachments": {},
   "cell_type": "markdown",
   "metadata": {},
   "source": [
    "## Beautiful Soup"
   ]
  },
  {
   "attachments": {},
   "cell_type": "markdown",
   "metadata": {},
   "source": [
    "Para acessar a pesquisa de uma dada vaga, basta estar logado e entrar no link gerado"
   ]
  },
  {
   "cell_type": "code",
   "execution_count": 4,
   "metadata": {},
   "outputs": [],
   "source": [
    "MAIN_LINKEDIN_LINK = 'https://www.linkedin.com/jobs/search/?'\n",
    "searched_job = 'analista de dados'\n",
    "keywords = 'keywords=' + searched_job\n",
    "location = 'location=Brasil'\n",
    "final_link = MAIN_LINKEDIN_LINK + keywords + '&' + location + '&' + 'geoId=106057199'"
   ]
  },
  {
   "attachments": {},
   "cell_type": "markdown",
   "metadata": {},
   "source": [
    "Agora, precisamos acessar com o BeautifulSoup e começar a coletar os dados!"
   ]
  },
  {
   "cell_type": "code",
   "execution_count": 5,
   "metadata": {},
   "outputs": [],
   "source": [
    "response = requests.get(final_link)\n",
    "soup = BeautifulSoup(response.content, 'html.parser')"
   ]
  },
  {
   "cell_type": "code",
   "execution_count": 6,
   "metadata": {},
   "outputs": [
    {
     "data": {
      "text/plain": [
       "<bound method Tag.get_attribute_list of <div data-tracking-control-name=\"public_jobs_google-one-tap\" id=\"google-one-tap__container\"></div>>"
      ]
     },
     "execution_count": 6,
     "metadata": {},
     "output_type": "execute_result"
    }
   ],
   "source": [
    "soup.div.get_attribute_list"
   ]
  },
  {
   "cell_type": "code",
   "execution_count": 7,
   "metadata": {},
   "outputs": [
    {
     "name": "stdout",
     "output_type": "stream",
     "text": [
      "Analista de Dados Jr\n",
      "Vem ser ituber! Carreira de Dados 🧡\n",
      "Analista de Dados | BI - Jr.\n",
      "Analista de Dados - Soluções de Investimentos\n",
      "Analista de Analytics JR\n",
      "Analista de Dados e Analytics JR- Comercial- Vaga Exclusiva Para Profissionais com Deficiência\n",
      "Analista de Dados Júnior\n",
      "Analista de Dados Junior\n",
      "Analista de Dados Júnior.\n",
      "Analista de Dados JR\n",
      "Analista de Dados/BI\n",
      "Data Analyst Jr/ Analista de Dados Jr\n",
      "Analista de BI I\n",
      "Jr Data Analyst\n",
      "Analista de Dados Jr.\n",
      "Analista em gestão do conhecimento  (monitoramento de pesquisas e dados)\n",
      "Analista de BI - Jr\n",
      "Analista de dados (BI) Jr\n",
      "Analista de Dados Júnior (Híbrido)\n",
      "Analista de Dados de Prevenção a Fraude -  Sênior\n",
      "ANALISTA DE DADOS JÚNIOR\n",
      "Analista de Dados Junior\n",
      "Estágio em BI\n",
      "Analista Inteligência de Dados Pleno\n",
      "Analista de dados (BI) Jr - Ribeirão Preto\n"
     ]
    }
   ],
   "source": [
    "lateral = soup.find('main')\n",
    "results = lateral.find_all('li')\n",
    "for result in results:\n",
    "    print(result.span.get_text().strip())"
   ]
  },
  {
   "cell_type": "code",
   "execution_count": 8,
   "metadata": {},
   "outputs": [
    {
     "data": {
      "text/plain": [
       "'https://www.linkedin.com/jobs/search/?keywords=analista de dados&location=Brasil&geoId=106057199'"
      ]
     },
     "execution_count": 8,
     "metadata": {},
     "output_type": "execute_result"
    }
   ],
   "source": [
    "final_link"
   ]
  },
  {
   "attachments": {},
   "cell_type": "markdown",
   "metadata": {},
   "source": [
    "Infelizmente, o BeautifulSoup não consegue nos retornar a página correta, exigindo o uso do Selenium"
   ]
  },
  {
   "attachments": {},
   "cell_type": "markdown",
   "metadata": {},
   "source": [
    "## Selenium"
   ]
  },
  {
   "attachments": {},
   "cell_type": "markdown",
   "metadata": {},
   "source": [
    "Primeiro, instanciamos o WebDriver do Selenium. O parâmetro 'options' terá o argumento para guardar os dados da sessão, facilitando futuras utilizações e evitando a necessidade de repetidos logins. Em seguida, acessamos o link do linkedin."
   ]
  },
  {
   "cell_type": "code",
   "execution_count": null,
   "metadata": {},
   "outputs": [],
   "source": []
  },
  {
   "cell_type": "code",
   "execution_count": 9,
   "metadata": {},
   "outputs": [],
   "source": [
    "\n",
    "\n",
    "def get_element(element, attribute_value, by_type):\n",
    "    if by_type == 'class':\n",
    "        if len(element.find_elements(By.CLASS_NAME, attribute_value)) > 0:\n",
    "            return element.find_element(By.CLASS_NAME, attribute_value).get_attribute('innerText')\n",
    "    elif by_type == 'tag':\n",
    "        if len(element.find_elements(By.TAG_NAME, attribute_value)) > 0:\n",
    "            return element.find_element(By.TAG_NAME, attribute_value).get_attribute('innerText')\n",
    "    elif by_type == 'id':\n",
    "        if len(element.find_elements(By.ID, attribute_value)) > 0:\n",
    "            return element.find_element(By.ID, attribute_value).get_attribute('innerText')\n",
    "    return np.nan\n",
    "\n",
    "def calculate_date(quantity, type_of_date):\n",
    "    if 'minuto' in type_of_date:\n",
    "        return datetime.today() - timedelta(minutes=quantity)\n",
    "    elif 'hora' in type_of_date:\n",
    "        return datetime.today() - timedelta(hours=quantity)\n",
    "    elif 'dia' in type_of_date:\n",
    "        return datetime.today() - timedelta(days=quantity)\n",
    "    elif 'semana' in type_of_date:\n",
    "        return datetime.today() - timedelta(weeks=quantity)\n",
    "    elif 'mes' in re.sub('ê', 'e', type_of_date):\n",
    "        return datetime.today() - relativedelta(months=quantity)\n",
    "    return np.nan\n",
    "\n",
    "def get_data_from_linkedin_page(driver, limit=False, limit_qtd=5):\n",
    "    # Get job data, scroll down to load every job, get the data again\n",
    "    job_list = driver.find_element(By.CLASS_NAME, 'scaffold-layout__list-container')\n",
    "    job_list = job_list.find_elements(By.TAG_NAME, 'a')\n",
    "    for i in range(10):\n",
    "        job_list[0].send_keys(Keys.PAGE_DOWN)\n",
    "    time.sleep(2)\n",
    "    job_list = driver.find_element(By.CLASS_NAME, 'scaffold-layout__list-container')\n",
    "    job_list = job_list.find_elements(By.TAG_NAME, 'a')\n",
    "\n",
    "    # Getting the data for the dictionary\n",
    "    job_collection = []\n",
    "    i=0\n",
    "\n",
    "    for job in job_list:\n",
    "    \n",
    "        job_data = dict()\n",
    "        job.click()\n",
    "        time.sleep(1.5)\n",
    "        job_content = driver.find_element(By.CLASS_NAME, 'jobs-unified-top-card__content--two-pane')\n",
    "\n",
    "        # First area of information (top)\n",
    "        job_data['title'] = get_element(job_content, 'h2', 'tag')\n",
    "        job_data['company'] = get_element(job_content, 'jobs-unified-top-card__company-name', 'class')\n",
    "        job_data['location'] = get_element(job_content, 'jobs-unified-top-card__bullet', 'class')\n",
    "        job_data['type_workplace'] = get_element(job_content, 'jobs-unified-top-card__workplace-type', 'class')\n",
    "        job_data['applicant_count'] = get_element(job_content, 'jobs-unified-top-card__applicant-count', 'class')\n",
    "        if isinstance(job_data['applicant_count'], str):\n",
    "            job_data['applicant_count'] = job_data['applicant_count'].split()[0]\n",
    "\n",
    "        # Calculating posted date\n",
    "        if len(job_content.find_elements(By.CLASS_NAME, 'jobs-unified-top-card__posted-date')) > 0:\n",
    "            quantity, temporal_type = get_element(job_content, 'jobs-unified-top-card__posted-date', 'class').split()[1:]\n",
    "            job_data['posted_date'] = calculate_date(int(quantity), temporal_type)\n",
    "        \n",
    "        # Second area of information (job insight)\n",
    "        try:\n",
    "            job_insight = job_content.find_element(By.CLASS_NAME, 'mt5')\n",
    "            job_insights = job_insight.find_elements(By.TAG_NAME, 'li')\n",
    "            job_insights = [insight.get_attribute('innerText') for insight in job_insights]\n",
    "            for insight in job_insights:\n",
    "                if 'competências' in insight.lower():\n",
    "                    job_data['skills'] = insight.split(': ')[1]\n",
    "            job_data['worktype'] = job_insights[0].split('·')[0].strip()\n",
    "            if len(job_insights[0].split('·')) > 1:\n",
    "                job_data['level'] = job_insights[0].split('·')[1].strip()\n",
    "            job_data['company_size'] = job_insights[1]\n",
    "            \n",
    "        except Exception as e:\n",
    "            print('erro:', job_data['title'], '-', e)\n",
    "\n",
    "        # Main job content:\n",
    "        job_data['about_job'] = get_element(driver, 'job-details', 'id')\n",
    "\n",
    "\n",
    "        job_collection.append(job_data)\n",
    "        if limit:\n",
    "            i+=1\n",
    "            if i == limit_qtd:\n",
    "                break\n",
    "    \n",
    "    return job_collection"
   ]
  },
  {
   "attachments": {},
   "cell_type": "markdown",
   "metadata": {},
   "source": [
    "A página de vagas do Linkedin é dividida em dois painéis, um com a lista de vagas e outra com a descrição da vaga selecionada, começando a partir da primeira. A lista de vagas é carregada na medida em que descemos por ela, então o comando .execute_script irá fazer um scroll down para carregarmos todas as vagas da primeira página.\n",
    "\n",
    "Em seguida, guardamos todas as vagas numa lista de WebElements."
   ]
  },
  {
   "cell_type": "code",
   "execution_count": 10,
   "metadata": {},
   "outputs": [
    {
     "name": "stderr",
     "output_type": "stream",
     "text": [
      "C:\\Users\\alexa\\AppData\\Local\\Temp\\ipykernel_17680\\315899760.py:4: DeprecationWarning: executable_path has been deprecated, please pass in a Service object\n",
      "  driver = webdriver.Chrome(executable_path='./resources/chromedriver.exe', options=options)\n"
     ]
    },
    {
     "name": "stdout",
     "output_type": "stream",
     "text": [
      "https://www.linkedin.com/jobs/search/?keywords=analista de dados&location=Brasil&geoId=106057199+&start=0\n",
      "https://www.linkedin.com/jobs/search/?keywords=analista de dados&location=Brasil&geoId=106057199+&start=25\n",
      "https://www.linkedin.com/jobs/search/?keywords=analista de dados&location=Brasil&geoId=106057199+&start=50\n",
      "https://www.linkedin.com/jobs/search/?keywords=analista de dados&location=Brasil&geoId=106057199+&start=75\n",
      "https://www.linkedin.com/jobs/search/?keywords=analista de dados&location=Brasil&geoId=106057199+&start=100\n",
      "erro: Programador - list index out of range\n",
      "https://www.linkedin.com/jobs/search/?keywords=analista de dados&location=Brasil&geoId=106057199+&start=125\n",
      "https://www.linkedin.com/jobs/search/?keywords=analista de dados&location=Brasil&geoId=106057199+&start=150\n",
      "https://www.linkedin.com/jobs/search/?keywords=analista de dados&location=Brasil&geoId=106057199+&start=175\n",
      "erro: Desenvolvedor jr. - list index out of range\n",
      "https://www.linkedin.com/jobs/search/?keywords=analista de dados&location=Brasil&geoId=106057199+&start=200\n",
      "https://www.linkedin.com/jobs/search/?keywords=analista de dados&location=Brasil&geoId=106057199+&start=225\n",
      "https://www.linkedin.com/jobs/search/?keywords=analista de dados&location=Brasil&geoId=106057199+&start=250\n",
      "https://www.linkedin.com/jobs/search/?keywords=analista de dados&location=Brasil&geoId=106057199+&start=275\n",
      "https://www.linkedin.com/jobs/search/?keywords=analista de dados&location=Brasil&geoId=106057199+&start=300\n",
      "https://www.linkedin.com/jobs/search/?keywords=analista de dados&location=Brasil&geoId=106057199+&start=325\n",
      "https://www.linkedin.com/jobs/search/?keywords=analista de dados&location=Brasil&geoId=106057199+&start=350\n",
      "https://www.linkedin.com/jobs/search/?keywords=analista de dados&location=Brasil&geoId=106057199+&start=375\n",
      "erro: Project Solutions Developer Intern LATAM - list index out of range\n",
      "erro: Programador Jr. - list index out of range\n",
      "https://www.linkedin.com/jobs/search/?keywords=analista de dados&location=Brasil&geoId=106057199+&start=400\n",
      "https://www.linkedin.com/jobs/search/?keywords=analista de dados&location=Brasil&geoId=106057199+&start=425\n",
      "https://www.linkedin.com/jobs/search/?keywords=analista de dados&location=Brasil&geoId=106057199+&start=450\n",
      "https://www.linkedin.com/jobs/search/?keywords=analista de dados&location=Brasil&geoId=106057199+&start=475\n",
      "https://www.linkedin.com/jobs/search/?keywords=analista de dados&location=Brasil&geoId=106057199+&start=500\n",
      "https://www.linkedin.com/jobs/search/?keywords=analista de dados&location=Brasil&geoId=106057199+&start=525\n",
      "https://www.linkedin.com/jobs/search/?keywords=analista de dados&location=Brasil&geoId=106057199+&start=550\n",
      "https://www.linkedin.com/jobs/search/?keywords=analista de dados&location=Brasil&geoId=106057199+&start=575\n",
      "https://www.linkedin.com/jobs/search/?keywords=analista de dados&location=Brasil&geoId=106057199+&start=600\n",
      "erro: Analista de Banco de Dados - list index out of range\n",
      "https://www.linkedin.com/jobs/search/?keywords=analista de dados&location=Brasil&geoId=106057199+&start=625\n",
      "https://www.linkedin.com/jobs/search/?keywords=analista de dados&location=Brasil&geoId=106057199+&start=650\n",
      "https://www.linkedin.com/jobs/search/?keywords=analista de dados&location=Brasil&geoId=106057199+&start=675\n",
      "https://www.linkedin.com/jobs/search/?keywords=analista de dados&location=Brasil&geoId=106057199+&start=700\n",
      "https://www.linkedin.com/jobs/search/?keywords=analista de dados&location=Brasil&geoId=106057199+&start=725\n",
      "https://www.linkedin.com/jobs/search/?keywords=analista de dados&location=Brasil&geoId=106057199+&start=750\n",
      "https://www.linkedin.com/jobs/search/?keywords=analista de dados&location=Brasil&geoId=106057199+&start=775\n",
      "https://www.linkedin.com/jobs/search/?keywords=analista de dados&location=Brasil&geoId=106057199+&start=800\n",
      "https://www.linkedin.com/jobs/search/?keywords=analista de dados&location=Brasil&geoId=106057199+&start=825\n",
      "https://www.linkedin.com/jobs/search/?keywords=analista de dados&location=Brasil&geoId=106057199+&start=850\n",
      "https://www.linkedin.com/jobs/search/?keywords=analista de dados&location=Brasil&geoId=106057199+&start=875\n",
      "https://www.linkedin.com/jobs/search/?keywords=analista de dados&location=Brasil&geoId=106057199+&start=900\n",
      "erro: JPT_Analista de Banco de Dados - list index out of range\n",
      "https://www.linkedin.com/jobs/search/?keywords=analista de dados&location=Brasil&geoId=106057199+&start=925\n",
      "https://www.linkedin.com/jobs/search/?keywords=analista de dados&location=Brasil&geoId=106057199+&start=950\n",
      "erro: Desenvolvedor Full Stack Júnior - list index out of range\n"
     ]
    }
   ],
   "source": [
    "driver = open_navigator(final_link)\n",
    "all_jobs = []\n",
    "for page in range(40):\n",
    "    get_linkedin(driver, final_link, page)\n",
    "    all_jobs.extend(get_data_from_linkedin_page(driver))"
   ]
  },
  {
   "cell_type": "code",
   "execution_count": 12,
   "metadata": {},
   "outputs": [],
   "source": [
    "df_jobs = pd.DataFrame(all_jobs)"
   ]
  },
  {
   "cell_type": "code",
   "execution_count": 13,
   "metadata": {},
   "outputs": [
    {
     "data": {
      "text/html": [
       "<div>\n",
       "<style scoped>\n",
       "    .dataframe tbody tr th:only-of-type {\n",
       "        vertical-align: middle;\n",
       "    }\n",
       "\n",
       "    .dataframe tbody tr th {\n",
       "        vertical-align: top;\n",
       "    }\n",
       "\n",
       "    .dataframe thead th {\n",
       "        text-align: right;\n",
       "    }\n",
       "</style>\n",
       "<table border=\"1\" class=\"dataframe\">\n",
       "  <thead>\n",
       "    <tr style=\"text-align: right;\">\n",
       "      <th></th>\n",
       "      <th>title</th>\n",
       "      <th>company</th>\n",
       "      <th>location</th>\n",
       "      <th>type_workplace</th>\n",
       "      <th>applicant_count</th>\n",
       "      <th>posted_date</th>\n",
       "      <th>skills</th>\n",
       "      <th>worktype</th>\n",
       "      <th>level</th>\n",
       "      <th>company_size</th>\n",
       "      <th>about_job</th>\n",
       "    </tr>\n",
       "  </thead>\n",
       "  <tbody>\n",
       "    <tr>\n",
       "      <th>0</th>\n",
       "      <td>Data Analyst (Bangkok Based, Relocation Provided)</td>\n",
       "      <td>Agoda</td>\n",
       "      <td>Porto Alegre, Rio Grande do Sul, Brasil</td>\n",
       "      <td>NaN</td>\n",
       "      <td>4</td>\n",
       "      <td>2023-05-26 16:01:22.414820</td>\n",
       "      <td>Comunicação, Capacidade de organização, e mais 8</td>\n",
       "      <td>Tempo integral</td>\n",
       "      <td>Júnior</td>\n",
       "      <td>5.001-10.000 funcionários · Tecnologia, Inform...</td>\n",
       "      <td>Sobre a vaga\\nAbout Agoda\\n\\n\\n\\n\\nAgoda is an...</td>\n",
       "    </tr>\n",
       "    <tr>\n",
       "      <th>1</th>\n",
       "      <td>Football Statistician</td>\n",
       "      <td>Genius Sports</td>\n",
       "      <td>Iporá, Goiás, Brasil</td>\n",
       "      <td>Presencial</td>\n",
       "      <td>43</td>\n",
       "      <td>2023-05-23 16:01:24.447378</td>\n",
       "      <td>Esportes, Inglês, e mais 8</td>\n",
       "      <td>Contrato</td>\n",
       "      <td>Assistente</td>\n",
       "      <td>1.001-5.000 funcionários · Desenvolvimento de ...</td>\n",
       "      <td>Sobre a vaga\\n\\nLove sports?\\n\\n\\n\\n\\nWe're lo...</td>\n",
       "    </tr>\n",
       "    <tr>\n",
       "      <th>2</th>\n",
       "      <td>Football Statistician</td>\n",
       "      <td>Genius Sports</td>\n",
       "      <td>Tocantinópolis, Tocantins, Brasil</td>\n",
       "      <td>Presencial</td>\n",
       "      <td>25</td>\n",
       "      <td>2023-05-29 16:01:26.395033</td>\n",
       "      <td>Coleta de dados, Futebol americano, e mais 8</td>\n",
       "      <td>Contrato</td>\n",
       "      <td>Assistente</td>\n",
       "      <td>1.001-5.000 funcionários · Desenvolvimento de ...</td>\n",
       "      <td>Sobre a vaga\\n\\nLove sports?\\n\\n\\n\\n\\nWe're lo...</td>\n",
       "    </tr>\n",
       "    <tr>\n",
       "      <th>3</th>\n",
       "      <td>Statistical Analyst (Bangkok Based, Relocation...</td>\n",
       "      <td>Agoda</td>\n",
       "      <td>Brasília, Distrito Federal, Brasil</td>\n",
       "      <td>NaN</td>\n",
       "      <td>10</td>\n",
       "      <td>2023-05-26 16:01:31.199296</td>\n",
       "      <td>Comunicação, Capacidade de organização, e mais 8</td>\n",
       "      <td>Tempo integral</td>\n",
       "      <td>Júnior</td>\n",
       "      <td>5.001-10.000 funcionários · Tecnologia, Inform...</td>\n",
       "      <td>Sobre a vaga\\nAbout Agoda\\n\\n\\n\\n\\nAgoda is an...</td>\n",
       "    </tr>\n",
       "    <tr>\n",
       "      <th>4</th>\n",
       "      <td>Analista de BI</td>\n",
       "      <td>Bacio di Latte</td>\n",
       "      <td>São Paulo, São Paulo, Brasil</td>\n",
       "      <td>Presencial</td>\n",
       "      <td>NaN</td>\n",
       "      <td>2023-05-29 16:01:36.172219</td>\n",
       "      <td>Comunicação, Relatórios e análises, e mais 8</td>\n",
       "      <td>Contrato</td>\n",
       "      <td>Pleno-sênior</td>\n",
       "      <td>1.001-5.000 funcionários · Serviços de aliment...</td>\n",
       "      <td>Sobre a vaga\\n\\nBuscamos sempre o que há de me...</td>\n",
       "    </tr>\n",
       "  </tbody>\n",
       "</table>\n",
       "</div>"
      ],
      "text/plain": [
       "                                               title         company   \n",
       "0  Data Analyst (Bangkok Based, Relocation Provided)           Agoda  \\\n",
       "1                              Football Statistician   Genius Sports   \n",
       "2                              Football Statistician   Genius Sports   \n",
       "3  Statistical Analyst (Bangkok Based, Relocation...           Agoda   \n",
       "4                                     Analista de BI  Bacio di Latte   \n",
       "\n",
       "                                    location type_workplace applicant_count   \n",
       "0   Porto Alegre, Rio Grande do Sul, Brasil             NaN               4  \\\n",
       "1                      Iporá, Goiás, Brasil      Presencial              43   \n",
       "2         Tocantinópolis, Tocantins, Brasil      Presencial              25   \n",
       "3        Brasília, Distrito Federal, Brasil             NaN              10   \n",
       "4              São Paulo, São Paulo, Brasil      Presencial             NaN   \n",
       "\n",
       "                 posted_date   \n",
       "0 2023-05-26 16:01:22.414820  \\\n",
       "1 2023-05-23 16:01:24.447378   \n",
       "2 2023-05-29 16:01:26.395033   \n",
       "3 2023-05-26 16:01:31.199296   \n",
       "4 2023-05-29 16:01:36.172219   \n",
       "\n",
       "                                             skills        worktype   \n",
       "0  Comunicação, Capacidade de organização, e mais 8  Tempo integral  \\\n",
       "1                        Esportes, Inglês, e mais 8        Contrato   \n",
       "2      Coleta de dados, Futebol americano, e mais 8        Contrato   \n",
       "3  Comunicação, Capacidade de organização, e mais 8  Tempo integral   \n",
       "4      Comunicação, Relatórios e análises, e mais 8        Contrato   \n",
       "\n",
       "          level                                       company_size   \n",
       "0        Júnior  5.001-10.000 funcionários · Tecnologia, Inform...  \\\n",
       "1    Assistente  1.001-5.000 funcionários · Desenvolvimento de ...   \n",
       "2    Assistente  1.001-5.000 funcionários · Desenvolvimento de ...   \n",
       "3        Júnior  5.001-10.000 funcionários · Tecnologia, Inform...   \n",
       "4  Pleno-sênior  1.001-5.000 funcionários · Serviços de aliment...   \n",
       "\n",
       "                                           about_job  \n",
       "0  Sobre a vaga\\nAbout Agoda\\n\\n\\n\\n\\nAgoda is an...  \n",
       "1  Sobre a vaga\\n\\nLove sports?\\n\\n\\n\\n\\nWe're lo...  \n",
       "2  Sobre a vaga\\n\\nLove sports?\\n\\n\\n\\n\\nWe're lo...  \n",
       "3  Sobre a vaga\\nAbout Agoda\\n\\n\\n\\n\\nAgoda is an...  \n",
       "4  Sobre a vaga\\n\\nBuscamos sempre o que há de me...  "
      ]
     },
     "execution_count": 13,
     "metadata": {},
     "output_type": "execute_result"
    }
   ],
   "source": [
    "df_jobs.head()"
   ]
  },
  {
   "cell_type": "code",
   "execution_count": 14,
   "metadata": {},
   "outputs": [
    {
     "data": {
      "text/plain": [
       "(975, 11)"
      ]
     },
     "execution_count": 14,
     "metadata": {},
     "output_type": "execute_result"
    }
   ],
   "source": [
    "df_jobs.shape"
   ]
  },
  {
   "cell_type": "code",
   "execution_count": 264,
   "metadata": {},
   "outputs": [],
   "source": [
    "df_jobs.location.unique()\n",
    "df_jobs.location = df_jobs.location.str.strip()"
   ]
  },
  {
   "cell_type": "code",
   "execution_count": 24,
   "metadata": {},
   "outputs": [],
   "source": [
    "df_jobs2 = df_jobs.copy()"
   ]
  },
  {
   "cell_type": "code",
   "execution_count": 25,
   "metadata": {},
   "outputs": [],
   "source": [
    "df_jobs2['about_job'] = df_jobs['about_job'].str.replace('\\n', ' - ')"
   ]
  },
  {
   "cell_type": "code",
   "execution_count": 26,
   "metadata": {},
   "outputs": [],
   "source": [
    "df_jobs2.to_csv('df_jobs_v1.csv', index=None, sep=',')"
   ]
  },
  {
   "cell_type": "code",
   "execution_count": 27,
   "metadata": {},
   "outputs": [],
   "source": [
    "a = pd.read_csv('df_jobs_v1.csv', sep=',')"
   ]
  },
  {
   "cell_type": "code",
   "execution_count": 30,
   "metadata": {},
   "outputs": [
    {
     "data": {
      "text/plain": [
       "(975, 11)"
      ]
     },
     "execution_count": 30,
     "metadata": {},
     "output_type": "execute_result"
    }
   ],
   "source": [
    "a.shape"
   ]
  },
  {
   "cell_type": "code",
   "execution_count": 31,
   "metadata": {},
   "outputs": [
    {
     "data": {
      "text/html": [
       "<div>\n",
       "<style scoped>\n",
       "    .dataframe tbody tr th:only-of-type {\n",
       "        vertical-align: middle;\n",
       "    }\n",
       "\n",
       "    .dataframe tbody tr th {\n",
       "        vertical-align: top;\n",
       "    }\n",
       "\n",
       "    .dataframe thead th {\n",
       "        text-align: right;\n",
       "    }\n",
       "</style>\n",
       "<table border=\"1\" class=\"dataframe\">\n",
       "  <thead>\n",
       "    <tr style=\"text-align: right;\">\n",
       "      <th></th>\n",
       "      <th>title</th>\n",
       "      <th>company</th>\n",
       "      <th>location</th>\n",
       "      <th>type_workplace</th>\n",
       "      <th>applicant_count</th>\n",
       "      <th>posted_date</th>\n",
       "      <th>skills</th>\n",
       "      <th>worktype</th>\n",
       "      <th>level</th>\n",
       "      <th>company_size</th>\n",
       "      <th>about_job</th>\n",
       "    </tr>\n",
       "  </thead>\n",
       "  <tbody>\n",
       "    <tr>\n",
       "      <th>0</th>\n",
       "      <td>Data Analyst (Bangkok Based, Relocation Provided)</td>\n",
       "      <td>Agoda</td>\n",
       "      <td>Porto Alegre, Rio Grande do Sul, Brasil</td>\n",
       "      <td>NaN</td>\n",
       "      <td>4.0</td>\n",
       "      <td>2023-05-26 16:01:22.414820</td>\n",
       "      <td>Comunicação, Capacidade de organização, e mais 8</td>\n",
       "      <td>Tempo integral</td>\n",
       "      <td>Júnior</td>\n",
       "      <td>5.001-10.000 funcionários · Tecnologia, Inform...</td>\n",
       "      <td>Sobre a vaga - About Agoda -  -  -  -  - Agoda...</td>\n",
       "    </tr>\n",
       "    <tr>\n",
       "      <th>1</th>\n",
       "      <td>Football Statistician</td>\n",
       "      <td>Genius Sports</td>\n",
       "      <td>Iporá, Goiás, Brasil</td>\n",
       "      <td>Presencial</td>\n",
       "      <td>43.0</td>\n",
       "      <td>2023-05-23 16:01:24.447378</td>\n",
       "      <td>Esportes, Inglês, e mais 8</td>\n",
       "      <td>Contrato</td>\n",
       "      <td>Assistente</td>\n",
       "      <td>1.001-5.000 funcionários · Desenvolvimento de ...</td>\n",
       "      <td>Sobre a vaga -  - Love sports? -  -  -  -  - W...</td>\n",
       "    </tr>\n",
       "    <tr>\n",
       "      <th>2</th>\n",
       "      <td>Football Statistician</td>\n",
       "      <td>Genius Sports</td>\n",
       "      <td>Tocantinópolis, Tocantins, Brasil</td>\n",
       "      <td>Presencial</td>\n",
       "      <td>25.0</td>\n",
       "      <td>2023-05-29 16:01:26.395033</td>\n",
       "      <td>Coleta de dados, Futebol americano, e mais 8</td>\n",
       "      <td>Contrato</td>\n",
       "      <td>Assistente</td>\n",
       "      <td>1.001-5.000 funcionários · Desenvolvimento de ...</td>\n",
       "      <td>Sobre a vaga -  - Love sports? -  -  -  -  - W...</td>\n",
       "    </tr>\n",
       "    <tr>\n",
       "      <th>3</th>\n",
       "      <td>Statistical Analyst (Bangkok Based, Relocation...</td>\n",
       "      <td>Agoda</td>\n",
       "      <td>Brasília, Distrito Federal, Brasil</td>\n",
       "      <td>NaN</td>\n",
       "      <td>10.0</td>\n",
       "      <td>2023-05-26 16:01:31.199296</td>\n",
       "      <td>Comunicação, Capacidade de organização, e mais 8</td>\n",
       "      <td>Tempo integral</td>\n",
       "      <td>Júnior</td>\n",
       "      <td>5.001-10.000 funcionários · Tecnologia, Inform...</td>\n",
       "      <td>Sobre a vaga - About Agoda -  -  -  -  - Agoda...</td>\n",
       "    </tr>\n",
       "    <tr>\n",
       "      <th>4</th>\n",
       "      <td>Analista de BI</td>\n",
       "      <td>Bacio di Latte</td>\n",
       "      <td>São Paulo, São Paulo, Brasil</td>\n",
       "      <td>Presencial</td>\n",
       "      <td>NaN</td>\n",
       "      <td>2023-05-29 16:01:36.172219</td>\n",
       "      <td>Comunicação, Relatórios e análises, e mais 8</td>\n",
       "      <td>Contrato</td>\n",
       "      <td>Pleno-sênior</td>\n",
       "      <td>1.001-5.000 funcionários · Serviços de aliment...</td>\n",
       "      <td>Sobre a vaga -  - Buscamos sempre o que há de ...</td>\n",
       "    </tr>\n",
       "  </tbody>\n",
       "</table>\n",
       "</div>"
      ],
      "text/plain": [
       "                                               title         company   \n",
       "0  Data Analyst (Bangkok Based, Relocation Provided)           Agoda  \\\n",
       "1                              Football Statistician   Genius Sports   \n",
       "2                              Football Statistician   Genius Sports   \n",
       "3  Statistical Analyst (Bangkok Based, Relocation...           Agoda   \n",
       "4                                     Analista de BI  Bacio di Latte   \n",
       "\n",
       "                                    location type_workplace  applicant_count   \n",
       "0   Porto Alegre, Rio Grande do Sul, Brasil             NaN              4.0  \\\n",
       "1                      Iporá, Goiás, Brasil      Presencial             43.0   \n",
       "2         Tocantinópolis, Tocantins, Brasil      Presencial             25.0   \n",
       "3        Brasília, Distrito Federal, Brasil             NaN             10.0   \n",
       "4              São Paulo, São Paulo, Brasil      Presencial              NaN   \n",
       "\n",
       "                  posted_date   \n",
       "0  2023-05-26 16:01:22.414820  \\\n",
       "1  2023-05-23 16:01:24.447378   \n",
       "2  2023-05-29 16:01:26.395033   \n",
       "3  2023-05-26 16:01:31.199296   \n",
       "4  2023-05-29 16:01:36.172219   \n",
       "\n",
       "                                             skills        worktype   \n",
       "0  Comunicação, Capacidade de organização, e mais 8  Tempo integral  \\\n",
       "1                        Esportes, Inglês, e mais 8        Contrato   \n",
       "2      Coleta de dados, Futebol americano, e mais 8        Contrato   \n",
       "3  Comunicação, Capacidade de organização, e mais 8  Tempo integral   \n",
       "4      Comunicação, Relatórios e análises, e mais 8        Contrato   \n",
       "\n",
       "          level                                       company_size   \n",
       "0        Júnior  5.001-10.000 funcionários · Tecnologia, Inform...  \\\n",
       "1    Assistente  1.001-5.000 funcionários · Desenvolvimento de ...   \n",
       "2    Assistente  1.001-5.000 funcionários · Desenvolvimento de ...   \n",
       "3        Júnior  5.001-10.000 funcionários · Tecnologia, Inform...   \n",
       "4  Pleno-sênior  1.001-5.000 funcionários · Serviços de aliment...   \n",
       "\n",
       "                                           about_job  \n",
       "0  Sobre a vaga - About Agoda -  -  -  -  - Agoda...  \n",
       "1  Sobre a vaga -  - Love sports? -  -  -  -  - W...  \n",
       "2  Sobre a vaga -  - Love sports? -  -  -  -  - W...  \n",
       "3  Sobre a vaga - About Agoda -  -  -  -  - Agoda...  \n",
       "4  Sobre a vaga -  - Buscamos sempre o que há de ...  "
      ]
     },
     "execution_count": 31,
     "metadata": {},
     "output_type": "execute_result"
    }
   ],
   "source": [
    "a.head()"
   ]
  }
 ],
 "metadata": {
  "kernelspec": {
   "display_name": "Python 3",
   "language": "python",
   "name": "python3"
  },
  "language_info": {
   "codemirror_mode": {
    "name": "ipython",
    "version": 3
   },
   "file_extension": ".py",
   "mimetype": "text/x-python",
   "name": "python",
   "nbconvert_exporter": "python",
   "pygments_lexer": "ipython3",
   "version": "3.11.3"
  },
  "orig_nbformat": 4
 },
 "nbformat": 4,
 "nbformat_minor": 2
}
